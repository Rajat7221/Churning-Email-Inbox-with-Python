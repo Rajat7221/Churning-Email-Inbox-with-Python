{
 "cells": [
  {
   "cell_type": "code",
   "execution_count": 1,
   "metadata": {},
   "outputs": [
    {
     "data": {
      "text/plain": [
       "'C:\\\\Users\\\\Sai\\\\Desktop\\\\project-churning'"
      ]
     },
     "execution_count": 1,
     "metadata": {},
     "output_type": "execute_result"
    }
   ],
   "source": [
    "pwd"
   ]
  },
  {
   "cell_type": "code",
   "execution_count": 4,
   "metadata": {},
   "outputs": [
    {
     "name": "stdout",
     "output_type": "stream",
     "text": [
      "C:\\Users\\Sai\\Desktop\\project-churning\n"
     ]
    }
   ],
   "source": [
    "import os\n",
    "current_dir = os.getcwd()\n",
    "print(current_dir)"
   ]
  },
  {
   "cell_type": "code",
   "execution_count": null,
   "metadata": {},
   "outputs": [],
   "source": []
  },
  {
   "cell_type": "code",
   "execution_count": 10,
   "metadata": {},
   "outputs": [
    {
     "name": "stdout",
     "output_type": "stream",
     "text": [
      "From stephen.marquard@uct.ac.za Sat Jan  5 09:14:16 2008\n",
      "Return-Path: <postmaster@collab.sakaiproject.org>\n",
      "Received: from murder (mail.umich.edu [141.211.14.90])\n",
      "\t by frankenstein.mail.umich.edu (Cyrus v2.3.8) with LMTPA;\n",
      "\t Sat, 05 Jan 2008 09:14:16 -0500\n",
      "X-Sieve: CMU Sieve 2.3\n",
      "Received: from murder ([unix socket])\n",
      "\t by mail.umich.edu (Cyrus v2.2.12) with LMTPA;\n",
      "\t Sat, 05 Jan 2008 09:14:16 -0500\n",
      "Received: from holes.mr.itd.umich.edu (holes.mr.itd.umich.edu [141.211.14.79])\n",
      "\tby flawless.mail.umich.edu () with ESMTP id m05EEFR1013674;\n",
      "\tSat, 5 Jan 2008 09:14:15 -0500\n",
      "Received: FROM paploo.uhi.ac.uk (app1.prod.collab.uhi.ac.uk [194.35.219.184])\n",
      "\tBY holes.mr.itd.umich.edu ID 477F90B0.2DB2F.12494 ; \n",
      "\t 5 Jan 2008 09:14:10 -0500\n"
     ]
    }
   ],
   "source": [
    "with open(r\"C:\\Users\\Sai\\Desktop\\project-churning\\mbox-short.txt\", 'r') as file:\n",
    "    for i, line in enumerate(file):\n",
    "        if i < 15:\n",
    "            print(line, end='')\n",
    "\n",
    "# The code above reads the file and prints the first 15 lines.\n"
   ]
  },
  {
   "cell_type": "code",
   "execution_count": 11,
   "metadata": {},
   "outputs": [
    {
     "name": "stdout",
     "output_type": "stream",
     "text": [
      " Volume in drive C is O.S\n",
      " Volume Serial Number is AC2F-219A\n",
      "\n",
      " Directory of C:\\Users\\Sai\n",
      "\n",
      "10/22/2023  11:51 PM    <DIR>          .\n",
      "10/22/2023  11:51 PM    <DIR>          ..\n",
      "05/20/2022  11:22 AM    <DIR>          .android\n",
      "10/21/2023  04:35 PM               905 .bash_history\n",
      "10/23/2023  06:07 AM    <DIR>          .conda\n",
      "09/14/2023  06:00 PM                25 .condarc\n",
      "09/14/2023  05:58 PM    <DIR>          .continuum\n",
      "10/15/2023  09:03 PM                57 .gitconfig\n",
      "11/09/2022  10:12 AM    <DIR>          .idlerc\n",
      "12/07/2022  06:02 PM    <DIR>          .ipynb_checkpoints\n",
      "11/13/2022  03:40 PM    <DIR>          .ipython\n",
      "11/13/2022  03:39 PM    <DIR>          .jupyter\n",
      "10/21/2023  05:07 PM                20 .lesshst\n",
      "04/26/2023  06:03 PM    <DIR>          .ms-ad\n",
      "10/21/2023  04:27 PM    <DIR>          .ssh\n",
      "10/12/2023  10:43 PM               952 .viminfo\n",
      "07/16/2023  06:03 PM    <DIR>          .vscode\n",
      "09/04/2020  02:47 PM    <DIR>          3D Objects\n",
      "09/14/2023  06:07 PM    <DIR>          anaconda3\n",
      "10/18/2020  11:13 AM    <DIR>          Apple\n",
      "09/04/2020  02:47 PM    <DIR>          Contacts\n",
      "10/23/2023  01:03 AM    <DIR>          Desktop\n",
      "09/14/2023  05:51 PM    <DIR>          Documents\n",
      "10/24/2023  10:49 PM    <DIR>          Downloads\n",
      "09/04/2020  02:47 PM    <DIR>          Favorites\n",
      "09/04/2020  02:47 PM    <DIR>          Links\n",
      "08/20/2022  06:49 PM    <DIR>          Microsoft\n",
      "10/04/2023  06:43 PM    <DIR>          ml\n",
      "06/28/2023  05:08 PM    <DIR>          Music\n",
      "07/29/2023  04:04 PM    <DIR>          OneDrive\n",
      "07/29/2023  01:37 PM    <DIR>          OneDrive - SRI GURU TEGH BAHADUR INSTITUTE OF MANAGEMENT AND INFORMATION TECHNOLOGY\n",
      "02/14/2023  11:03 PM    <DIR>          Pictures\n",
      "03/16/2021  11:56 AM    <DIR>          PycharmProjects\n",
      "12/10/2021  04:45 PM    <DIR>          Saved Games\n",
      "11/13/2022  02:03 PM    <DIR>          Searches\n",
      "11/11/2022  11:37 AM    <DIR>          SOCIOLOGY\n",
      "10/22/2023  06:57 PM    <DIR>          Untitled Folder\n",
      "10/22/2023  11:51 PM             6,365 Untitled.ipynb\n",
      "12/10/2021  04:19 PM    <DIR>          Videos\n",
      "09/19/2020  03:30 PM             1,142 VLC media player.lnk\n",
      "               7 File(s)          9,466 bytes\n",
      "              33 Dir(s)  11,374,465,024 bytes free\n"
     ]
    }
   ],
   "source": [
    "# List the contents of the home directory to check for mbox-short.txt\n",
    "!dir C:\\Users\\Sai\n",
    "\n"
   ]
  },
  {
   "cell_type": "code",
   "execution_count": 12,
   "metadata": {},
   "outputs": [
    {
     "data": {
      "text/plain": [
       "1910"
      ]
     },
     "execution_count": 12,
     "metadata": {},
     "output_type": "execute_result"
    }
   ],
   "source": [
    "#Counting the no. of lines \n",
    "\n",
    "def number_of_lines() :\n",
    "    fhand=open('mbox-short.txt')\n",
    "    count=0\n",
    "    for line in fhand :\n",
    "        count = count + 1\n",
    "    return count    \n",
    "number_of_lines()"
   ]
  },
  {
   "cell_type": "code",
   "execution_count": 13,
   "metadata": {},
   "outputs": [
    {
     "data": {
      "text/plain": [
       "27"
      ]
     },
     "execution_count": 13,
     "metadata": {},
     "output_type": "execute_result"
    }
   ],
   "source": [
    "def count_number_of_lines():\n",
    "    fhand=open('mbox-short.txt')\n",
    "    count=0\n",
    "    for line in fhand :\n",
    "        line = line.rstrip() #removes newline characters from right \n",
    "        if line.startswith('Subject:'):\n",
    "            count += 1\n",
    "    return count\n",
    "count_number_of_lines()"
   ]
  },
  {
   "cell_type": "code",
   "execution_count": 14,
   "metadata": {},
   "outputs": [
    {
     "data": {
      "text/plain": [
       "0.7507185185185187"
      ]
     },
     "execution_count": 14,
     "metadata": {},
     "output_type": "execute_result"
    }
   ],
   "source": [
    "def average_spam_confidence():\n",
    "    fhand=open(\"mbox-short.txt\")\n",
    "    count=0\n",
    "    total_spam_conf = 0\n",
    "    for line in fhand :\n",
    "        line = line.rstrip()\n",
    "        if line.startswith('X-DSPAM-Confidence:'):\n",
    "            var,value = line.split(':') \n",
    "            total_spam_conf = total_spam_conf + float(value)\n",
    "            count += 1\n",
    "            \n",
    "    return (total_spam_conf/count)\n",
    "\n",
    "            \n",
    "average_spam_confidence()            \n",
    "            "
   ]
  },
  {
   "cell_type": "code",
   "execution_count": 11,
   "metadata": {},
   "outputs": [
    {
     "name": "stdout",
     "output_type": "stream",
     "text": [
      "{'Sat': 1, 'Fri': 20, 'Thu': 6}\n"
     ]
    }
   ],
   "source": [
    "def find_email_sent_days() :\n",
    "    fhand = open('mbox-short.txt')\n",
    "    count= {}\n",
    "    for line in fhand :\n",
    "        line = line.rstrip()\n",
    "        if line.startswith('From'):\n",
    "            words = line.split()\n",
    "            if len(words) >= 3 :\n",
    "                day_sent = words[2] #third word cntains the day name\n",
    "                count[day_sent] = count.get(day_sent,0) + 1\n",
    "    return count\n",
    "\n",
    "result = find_email_sent_days()\n",
    "print(result)\n",
    "            "
   ]
  },
  {
   "cell_type": "code",
   "execution_count": 15,
   "metadata": {},
   "outputs": [
    {
     "data": {
      "text/plain": [
       "{'stephen.marquard@uct.ac.za': 2,\n",
       " 'louis@media.berkeley.edu': 3,\n",
       " 'zqian@umich.edu': 4,\n",
       " 'rjlowe@iupui.edu': 2,\n",
       " 'cwen@iupui.edu': 5,\n",
       " 'gsilver@umich.edu': 3,\n",
       " 'wagnermr@iupui.edu': 1,\n",
       " 'antranig@caret.cam.ac.uk': 1,\n",
       " 'gopal.ramasammycook@gmail.com': 1,\n",
       " 'david.horwitz@uct.ac.za': 4,\n",
       " 'ray@media.berkeley.edu': 1}"
      ]
     },
     "execution_count": 15,
     "metadata": {},
     "output_type": "execute_result"
    }
   ],
   "source": [
    "def count_message_from_email():\n",
    "    fhand=open('mbox-short.txt')\n",
    "    email_count = {}\n",
    "    for line in fhand :\n",
    "        line = line.rstrip()\n",
    "        if line.startswith('From:') and '@' in line :\n",
    "            words = line.split()\n",
    "            email = words[1]\n",
    "            email_count[email] = email_count.get(email,0) + 1\n",
    "    return email_count\n",
    "\n",
    "count_message_from_email()\n"
   ]
  },
  {
   "cell_type": "code",
   "execution_count": null,
   "metadata": {},
   "outputs": [],
   "source": [
    "\n",
    "    "
   ]
  },
  {
   "cell_type": "code",
   "execution_count": null,
   "metadata": {},
   "outputs": [],
   "source": []
  }
 ],
 "metadata": {
  "kernelspec": {
   "display_name": "Python 3 (ipykernel)",
   "language": "python",
   "name": "python3"
  },
  "language_info": {
   "codemirror_mode": {
    "name": "ipython",
    "version": 3
   },
   "file_extension": ".py",
   "mimetype": "text/x-python",
   "name": "python",
   "nbconvert_exporter": "python",
   "pygments_lexer": "ipython3",
   "version": "3.11.4"
  },
  "toc": {
   "base_numbering": 1,
   "nav_menu": {},
   "number_sections": true,
   "sideBar": true,
   "skip_h1_title": false,
   "title_cell": "Table of Contents",
   "title_sidebar": "Contents",
   "toc_cell": false,
   "toc_position": {},
   "toc_section_display": true,
   "toc_window_display": false
  }
 },
 "nbformat": 4,
 "nbformat_minor": 2
}
